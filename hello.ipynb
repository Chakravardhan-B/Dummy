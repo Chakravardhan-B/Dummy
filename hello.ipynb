{
 "cells": [
  {
   "cell_type": "code",
   "execution_count": 1,
   "metadata": {},
   "outputs": [
    {
     "name": "stdout",
     "output_type": "stream",
     "text": [
      "Hello World!\n"
     ]
    }
   ],
   "source": [
    "print(\"Hello World!\")"
   ]
  },
  {
   "cell_type": "code",
   "execution_count": 21,
   "metadata": {},
   "outputs": [
    {
     "name": "stdout",
     "output_type": "stream",
     "text": [
      "[1, 2, 2, 4, 1, 3, 54, 2, 2, 2, 4, 5, 6, 0, 0, 0, 0, 0, 0, 0]\n"
     ]
    }
   ],
   "source": [
    "arr=[1,2,0,2,4,0,1,3,0,54,2,0,2,0,0,0,2,4,5,6]\n",
    "# arr=[0,0,0,2,1,3]\n",
    "for i in range(len(arr)-1):\n",
    "    if(arr[i]==0):\n",
    "        for j in range(i+1,len(arr)):\n",
    "            if(arr[j]!=0):\n",
    "                t=arr[j]\n",
    "                arr[j]=arr[i]\n",
    "                arr[i]=t\n",
    "                break\n",
    "\n",
    "print(arr)"
   ]
  },
  {
   "cell_type": "code",
   "execution_count": 25,
   "metadata": {},
   "outputs": [
    {
     "name": "stdout",
     "output_type": "stream",
     "text": [
      "[31, 6, 5, 0, 0, 0]\n"
     ]
    }
   ],
   "source": [
    "arr=[0,0,0,31,6,5]\n",
    "c=0\n",
    "l=[]\n",
    "for i in range(len(arr)):\n",
    "    if(arr[i]==0):\n",
    "        c+=1\n",
    "        continue\n",
    "    l.append(arr[i])\n",
    "for i in range(c):\n",
    "    l.append(0)\n",
    "print(l)\n",
    "arr.clear()\n",
    "arr.extend(l)"
   ]
  },
  {
   "cell_type": "code",
   "execution_count": 3,
   "metadata": {},
   "outputs": [],
   "source": [
    "from numpy import *"
   ]
  },
  {
   "cell_type": "code",
   "execution_count": 4,
   "metadata": {},
   "outputs": [
    {
     "name": "stdout",
     "output_type": "stream",
     "text": [
      "[[ 2 -4  0]\n",
      " [-4  8  0]\n",
      " [ 0  0  8]]\n"
     ]
    }
   ],
   "source": [
    "a=array([[2,-4,0],[-4,8,0],[0,0,8]])\n",
    "print(a)"
   ]
  },
  {
   "cell_type": "code",
   "execution_count": 5,
   "metadata": {},
   "outputs": [],
   "source": [
    "eig,eigvec=linalg.eig(a)"
   ]
  },
  {
   "cell_type": "code",
   "execution_count": 6,
   "metadata": {},
   "outputs": [
    {
     "name": "stdout",
     "output_type": "stream",
     "text": [
      "[ 0. 10.  8.]\n"
     ]
    }
   ],
   "source": [
    "print(eig)"
   ]
  },
  {
   "cell_type": "code",
   "execution_count": 5,
   "metadata": {},
   "outputs": [
    {
     "name": "stdout",
     "output_type": "stream",
     "text": [
      "[[-0.83025082  0.55738997]\n",
      " [-0.55738997 -0.83025082]]\n"
     ]
    }
   ],
   "source": [
    "print(eigvec)"
   ]
  },
  {
   "cell_type": "code",
   "execution_count": 2,
   "metadata": {},
   "outputs": [],
   "source": [
    "import sympy as sy"
   ]
  },
  {
   "cell_type": "code",
   "execution_count": 3,
   "metadata": {},
   "outputs": [],
   "source": [
    "a=sy.Matrix([[5,4,2],[0,5,0],[0,0,5]])"
   ]
  },
  {
   "cell_type": "code",
   "execution_count": 5,
   "metadata": {},
   "outputs": [],
   "source": [
    "S,J=a.jordan_form()"
   ]
  },
  {
   "cell_type": "code",
   "execution_count": 6,
   "metadata": {},
   "outputs": [
    {
     "data": {
      "text/latex": [
       "$\\displaystyle \\left[\\begin{matrix}5 & 1 & 0\\\\0 & 5 & 0\\\\0 & 0 & 5\\end{matrix}\\right]$"
      ],
      "text/plain": [
       "Matrix([\n",
       "[5, 1, 0],\n",
       "[0, 5, 0],\n",
       "[0, 0, 5]])"
      ]
     },
     "execution_count": 6,
     "metadata": {},
     "output_type": "execute_result"
    }
   ],
   "source": [
    "J"
   ]
  },
  {
   "cell_type": "code",
   "execution_count": 7,
   "metadata": {},
   "outputs": [
    {
     "data": {
      "text/latex": [
       "$\\displaystyle \\left[\\begin{matrix}4 & 0 & 0\\\\0 & 1 & - \\frac{1}{2}\\\\0 & 0 & 1\\end{matrix}\\right]$"
      ],
      "text/plain": [
       "Matrix([\n",
       "[4, 0,    0],\n",
       "[0, 1, -1/2],\n",
       "[0, 0,    1]])"
      ]
     },
     "execution_count": 7,
     "metadata": {},
     "output_type": "execute_result"
    }
   ],
   "source": [
    "S"
   ]
  },
  {
   "cell_type": "code",
   "execution_count": 3,
   "metadata": {},
   "outputs": [],
   "source": [
    "\n",
    "from numpy import *\n",
    "A=array([[1,0,1],[-1,1,0]])"
   ]
  },
  {
   "cell_type": "code",
   "execution_count": 4,
   "metadata": {},
   "outputs": [
    {
     "data": {
      "text/plain": [
       "array([[ 1, -1],\n",
       "       [ 0,  1],\n",
       "       [ 1,  0]])"
      ]
     },
     "execution_count": 4,
     "metadata": {},
     "output_type": "execute_result"
    }
   ],
   "source": [
    "A.T"
   ]
  },
  {
   "cell_type": "code",
   "execution_count": 9,
   "metadata": {},
   "outputs": [
    {
     "name": "stdout",
     "output_type": "stream",
     "text": [
      "[[ 2 -1]\n",
      " [-1  2]]\n"
     ]
    }
   ],
   "source": [
    "x=A@A.T\n",
    "print(x)"
   ]
  },
  {
   "cell_type": "code",
   "execution_count": 7,
   "metadata": {},
   "outputs": [
    {
     "data": {
      "text/plain": [
       "EigResult(eigenvalues=array([3., 1.]), eigenvectors=array([[ 0.70710678,  0.70710678],\n",
       "       [-0.70710678,  0.70710678]]))"
      ]
     },
     "execution_count": 7,
     "metadata": {},
     "output_type": "execute_result"
    }
   ],
   "source": [
    "linalg.eig(x)"
   ]
  },
  {
   "cell_type": "code",
   "execution_count": 8,
   "metadata": {},
   "outputs": [
    {
     "data": {
      "text/plain": [
       "EigResult(eigenvalues=array([ 3.00000000e+00, -2.91433544e-16,  1.00000000e+00]), eigenvectors=array([[-8.16496581e-01,  5.77350269e-01, -1.57009246e-16],\n",
       "       [ 4.08248290e-01,  5.77350269e-01,  7.07106781e-01],\n",
       "       [-4.08248290e-01, -5.77350269e-01,  7.07106781e-01]]))"
      ]
     },
     "execution_count": 8,
     "metadata": {},
     "output_type": "execute_result"
    }
   ],
   "source": [
    "linalg.eig(A.T@A)"
   ]
  },
  {
   "cell_type": "code",
   "execution_count": 10,
   "metadata": {},
   "outputs": [],
   "source": [
    "c=array([[14,-11],[-11,23]])"
   ]
  },
  {
   "cell_type": "code",
   "execution_count": 11,
   "metadata": {},
   "outputs": [
    {
     "data": {
      "text/plain": [
       "EigResult(eigenvalues=array([ 6.61513568, 30.38486432]), eigenvectors=array([[-0.83025082,  0.55738997],\n",
       "       [-0.55738997, -0.83025082]]))"
      ]
     },
     "execution_count": 11,
     "metadata": {},
     "output_type": "execute_result"
    }
   ],
   "source": [
    "linalg.eig(c)"
   ]
  },
  {
   "cell_type": "code",
   "execution_count": 14,
   "metadata": {},
   "outputs": [],
   "source": [
    "from numpy import *"
   ]
  },
  {
   "cell_type": "code",
   "execution_count": 15,
   "metadata": {},
   "outputs": [],
   "source": [
    "s=array([[3.3,-0.3],[-0.3,5.5]])\n",
    "b=array([[29.16,20.52],[20.52,14.44]])"
   ]
  },
  {
   "cell_type": "code",
   "execution_count": 16,
   "metadata": {},
   "outputs": [
    {
     "data": {
      "text/plain": [
       "EigResult(eigenvalues=array([12.20066445,  0.        ]), eigenvectors=array([[ 0.90878558, -0.57549341],\n",
       "       [ 0.41726342,  0.81780642]]))"
      ]
     },
     "execution_count": 16,
     "metadata": {},
     "output_type": "execute_result"
    }
   ],
   "source": [
    "linalg.eig(linalg.inv(s)@b)"
   ]
  },
  {
   "cell_type": "code",
   "execution_count": null,
   "metadata": {},
   "outputs": [],
   "source": [
    "import cv2\n",
    "def noise():\n",
    "cap = cv2.VideoCapture(0)\n",
    "while True:\n",
    "_, frame1 = cap.read()\n",
    "_, frame2 = cap.read()\n",
    "diff = cv2.absdiff(frame2, frame1)\n",
    "diff = cv2.cvtColor(diff, cv2.COLOR_BGR2GRAY)\n",
    "diff = cv2.blur(diff, (5,5))\n",
    "_, thresh = cv2.threshold(diff, 25, 255, cv2.THRESH_BINARY)\n",
    "contr, _ = cv2.findContours(thresh, cv2.RETR_TREE,\n",
    "cv2.CHAIN_APPROX_SIMPLE)\n",
    "if len(contr) > 0:\n",
    "max_cnt = max(contr, key=cv2.contourArea)\n",
    "x,y,w,h = cv2.boundingRect(max_cnt)\n",
    "cv2.rectangle(frame1, (x, y), (x+w, y+h), (0,255,0),\n",
    "2) cv2.putText(frame1, \"MOTION\", (10,80),\n",
    "cv2.FONT_HERSHEY_SIMPLEX, 2, (0,255,0), 2)\n",
    "else:\n",
    "cv2.putText(frame1, \"NO-MOTION\", (10,80),\n",
    "cv2.FONT_HERSHEY_SIMPLEX, 2, (0,0,255), 2)\n",
    "cv2.imshow(\"esc. to exit\", frame1)\n",
    "if cv2.waitKey(1) == 27:\n",
    "cap.release()\n",
    "cv2.destroyAllWindows()\n",
    "break\n",
    "#Record:\n",
    "import cv2\n",
    "from datetime import datetime\n",
    "def record():\n",
    "\n",
    "cap = cv2.VideoCapture(0)fourcc = cv2.VideoWriter_fourcc(*'XVID')\n",
    "out = cv2.VideoWriter(f'recordings/{datetime.now().strftime(\"%H-\n",
    "%M- %S\")}.avi', fourcc,20.0,(640,480))\n",
    "while True:\n",
    "\n",
    "\n",
    "_, frame = cap.read()\n",
    "cv2.putText(frame, f'{datetime.now().strftime(\"%D-%H-%M-%S\")}',\n",
    "(50,50), cv2.FONT_HERSHEY_COMPLEX,\n",
    "0.6, (255,255,255), 2)\n",
    "out.write(frame)\n",
    "cv2.imshow(\"esc. to stop\", frame)\n",
    "if cv2.waitKey(1) == 27:\n",
    "cap.release()\n",
    "cv2.destroyAllWindows()\n",
    "break"
   ]
  },
  {
   "cell_type": "code",
   "execution_count": null,
   "metadata": {},
   "outputs": [],
   "source": [
    "import tkinter as tk\n",
    "import tkinter.font as font\n",
    "from in_out import in_out\n",
    "from motion import noise\n",
    "from rect_noise import rect_noise\n",
    "from record import record\n",
    "from PIL import Image, ImageTk\n",
    "from find_motion import find_motion\n",
    "from identify import maincall\n",
    "window = tk.Tk()\n",
    "window.title(\"Smart cctv\")\n",
    "window.iconphoto(False,\n",
    "tk.PhotoImage(file='mn.png'))\n",
    "window.geometry('1080x700')\n",
    "frame1 = tk.Frame(window)\n",
    "label_title = tk.Label(frame1, text=\"Smart cctv Camera\")\n",
    "label_font = font.Font(size=35,\n",
    "weight='bold',family='Helvetica') label_title['font'] =\n",
    "label_font\n",
    "label_title.grid(pady=(10,10), column=2)\n",
    "icon = Image.open('icons/spy.png')\n",
    "icon = icon.resize((150,150), Image.ANTIALIAS)\n",
    "icon = ImageTk.PhotoImage(icon)\n",
    "label_icon = tk.Label(frame1, image=icon)\n",
    "label_icon.grid(row=1, pady=(5,10), column=2)\n",
    "btn1_image = Image.open('icons/lamp.png')\n",
    "btn1_image = btn1_image.resize((50,50),\n",
    "Image.ANTIALIAS) btn1_image =\n",
    "ImageTk.PhotoImage(btn1_image)\n",
    "btn2_image = Image.open('icons/rectangle-of-cutted-line-geometrical\n",
    "shape.png')\n",
    "btn2_image = btn2_image.resize((50,50),\n",
    "Image.ANTIALIAS) btn2_image =\n",
    "ImageTk.PhotoImage(btn2_image)\n",
    "btn5_image = Image.open('icons/exit.png')\n",
    "btn5_image = btn5_image.resize((50,50),\n",
    "Image.ANTIALIAS) btn5_image =\n",
    "ImageTk.PhotoImage(btn5_image)\n",
    "btn3_image = Image.open('icons/security-camera.png')\n",
    "btn3_image = btn3_image.resize((50,50),\n",
    "Image.ANTIALIAS) btn3_image =ImageTk.PhotoImage(btn3_image)\n",
    "\n",
    "btn6_image = Image.open('icons/incognito.png')\n",
    "btn6_image = btn6_image.resize((50,50), Image.ANTIALIAS)\n",
    "btn6_image = ImageTk.PhotoImage(btn6_image)\n",
    "btn4_image = Image.open('icons/recording.png')\n",
    "btn4_image = btn4_image.resize((50,50), Image.ANTIALIAS)\n",
    "btn4_image = ImageTk.PhotoImage(btn4_image)\n",
    "btn7_image = Image.open('icons/recording.png')\n",
    "btn7_image = btn7_image.resize((50,50), Image.ANTIALIAS)\n",
    "btn7_image = ImageTk.PhotoImage(btn7_image)\n",
    "\n",
    "#Button\n",
    "btn_font = font.Font(size=25)\n",
    "btn1 = tk.Button(frame1, text='Monitor', height=90, width=180,\n",
    "fg='green',command = find_motion, image=btn1_image, compound='left')\n",
    "btn1['font'] = btn_font\n",
    "btn1.grid(row=3, pady=(20,10))\n",
    "btn2 = tk.Button(frame1, text='Rectangle', height=90, width=180,\n",
    "fg='orange', command=rect_noise, compound='left', image=btn2_image)\n",
    "btn2['font'] = btn_font\n",
    "btn2.grid(row=3, pady=(20,10), column=3, padx=(20,5))\n",
    "btn_font = font.Font(size=25)\n",
    "btn3 = tk.Button(frame1, text='Noise', height=90, width=180, fg='green',\n",
    "command=noise, image=btn3_image, compound='left')\n",
    "btn3['font'] = btn_font\n",
    "btn3.grid(row=5, pady=(20,10))\n",
    "btn4 = tk.Button(frame1, text='Record', height=90, width=180, fg='orange',\n",
    "command=record, image=btn4_image, compound='left')\n",
    "btn4['font'] = btn_font\n",
    "btn4.grid(row=5, pady=(20,10), column=3)\n",
    "btn6 = tk.Button(frame1, text='In Out', height=90, width=180, fg='green',\n",
    "command=in_out, image=btn6_image, compound='left')\n",
    "btn6['font'] = btn_font\n",
    "btn6.grid(row=5, pady=(20,10), column=2)\n",
    "btn5 = tk.Button(frame1, height=90, width=180, fg='red',\n",
    "command=window.quit, image=btn5_image)\n",
    "btn5['font'] = btn_font\n",
    "btn5.grid(row=6, pady=(20,10), column=2)\n",
    "btn7 = tk.Button(frame1, text=\"identify\", fg=\"orange\",command=maincall,\n",
    "compound='left', image=btn7_image, height=90, width=180)45\n",
    "btn7['font'] = btn_font\n",
    "btn7.grid(row=3, column=2, pady=(20,10))\n",
    "frame1.pack()\n",
    "window.mainloop()\n"
   ]
  },
  {
   "cell_type": "code",
   "execution_count": null,
   "metadata": {},
   "outputs": [
    {
     "ename": "IndentationError",
     "evalue": "expected an indented block after function definition on line 2 (2419429958.py, line 3)",
     "output_type": "error",
     "traceback": [
      "\u001b[0;36m  Cell \u001b[0;32mIn[1], line 3\u001b[0;36m\u001b[0m\n\u001b[0;31m    cap = cv2.VideoCapture(0)\u001b[0m\n\u001b[0m    ^\u001b[0m\n\u001b[0;31mIndentationError\u001b[0m\u001b[0;31m:\u001b[0m expected an indented block after function definition on line 2\n"
     ]
    }
   ],
   "source": [
    "import cv2\n",
    "def noise():\n",
    "cap = cv2.VideoCapture(0)\n",
    "while True:\n",
    "_, frame1 = cap.read()\n",
    "_, frame2 = cap.read()\n",
    "diff = cv2.absdiff(frame2, frame1)\n",
    "diff = cv2.cvtColor(diff, cv2.COLOR_BGR2GRAY)\n",
    "diff = cv2.blur(diff, (5,5))\n",
    "_, thresh = cv2.threshold(diff, 25, 255, cv2.THRESH_BINARY)\n",
    "contr, _ = cv2.findContours(thresh, cv2.RETR_TREE,\n",
    "cv2.CHAIN_APPROX_SIMPLE)\n",
    "if len(contr) > 0:\n",
    "max_cnt = max(contr, key=cv2.contourArea)\n",
    "x,y,w,h = cv2.boundingRect(max_cnt)\n",
    "cv2.rectangle(frame1, (x, y), (x+w, y+h), (0,255,0),\n",
    "2) cv2.putText(frame1, \"MOTION\", (10,80),\n",
    "cv2.FONT_HERSHEY_SIMPLEX, 2, (0,255,0), 2)\n",
    "else:\n",
    "cv2.putText(frame1, \"NO-MOTION\", (10,80),\n",
    "cv2.FONT_HERSHEY_SIMPLEX, 2, (0,0,255), 2)\n",
    "cv2.imshow(\"esc. to exit\", frame1)\n",
    "if cv2.waitKey(1) == 27:\n",
    "cap.release()\n",
    "cv2.destroyAllWindows()\n",
    "break"
   ]
  },
  {
   "cell_type": "code",
   "execution_count": null,
   "metadata": {},
   "outputs": [],
   "source": []
  }
 ],
 "metadata": {
  "kernelspec": {
   "display_name": "Python 3",
   "language": "python",
   "name": "python3"
  },
  "language_info": {
   "codemirror_mode": {
    "name": "ipython",
    "version": 3
   },
   "file_extension": ".py",
   "mimetype": "text/x-python",
   "name": "python",
   "nbconvert_exporter": "python",
   "pygments_lexer": "ipython3",
   "version": "3.10.12"
  }
 },
 "nbformat": 4,
 "nbformat_minor": 2
}
